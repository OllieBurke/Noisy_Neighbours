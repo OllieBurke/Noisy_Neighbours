{
 "cells": [
  {
   "cell_type": "code",
   "execution_count": 643,
   "metadata": {},
   "outputs": [],
   "source": [
    "import numpy as np\n",
    "import matplotlib.pyplot as plt\n",
    "import LISA_utils  # This is a python script full of nice tasty functions we can use for LISA (or LIGO) DA\n",
    "import scipy\n",
    "import scipy.signal\n",
    "import scipy.constants\n",
    "import os\n",
    "from scipy import integrate\n",
    "plt.rcParams['agg.path.chunksize'] = 10000\n",
    "\n",
    "from mpmath import *  # Start to use arbitrary precision arithmetic."
   ]
  },
  {
   "cell_type": "code",
   "execution_count": 644,
   "metadata": {},
   "outputs": [],
   "source": [
    "# Bunch of units\n",
    "\n",
    "GM_sun = 1.3271244*1e20\n",
    "c =2.9979246*1e8\n",
    "M_sun =1.9884099*1e30\n",
    "G = 6.6743*1e-11\n",
    "pc= 3.0856776*1e16\n",
    "pi = np.pi\n",
    "Mpc = 10**6 * pc"
   ]
  },
  {
   "cell_type": "code",
   "execution_count": null,
   "metadata": {},
   "outputs": [],
   "source": []
  },
  {
   "cell_type": "code",
   "execution_count": 645,
   "metadata": {},
   "outputs": [],
   "source": [
    "def htilde_GR(f,eps,params):\n",
    "    \n",
    "    \"\"\"\n",
    "    Here we calculate a TaylorF2 model up to 2PN which takes as input the following\n",
    "    set of parameters: (log of chirp mass, symmetric mass ratio, beta).\n",
    "    This can easily be changed in the first few lines where the parameters are loaded.\n",
    "    The main reference is https://arxiv.org/pdf/gr-qc/0509116.pdf [Eqs (3.4)].\n",
    "    \n",
    "    Note on distance: \n",
    "    \n",
    "    Notice that the effective distance contains information about the angular dependence\n",
    "    of the binary. The model can thus be used for all detectors, as long as this distance\n",
    "    parameter is chosen consistently. \n",
    "    \n",
    "    Note on spin: \n",
    "    \n",
    "    The spin parameter beta is defined in Eq.(2.3a) in [arxiv:0411129].\n",
    "    Notice that this quantity is constructed in such a way to be smaller or equal\n",
    "    than 9.4, and of course it ranges from 0 (no spins) to this upper value. \n",
    "    The coefficient enters the phase as in Eq.(2.2) in the same paper.\n",
    "    \"\"\"\n",
    "    # Units\n",
    "    \n",
    "#     GM_sun = 1.3271244*1e20\n",
    "#     c =2.9979246*1e8\n",
    "#     M_sun =1.9884099*1e30\n",
    "#     G = 6.6743*1e-11\n",
    "#     pc= 3.0856776*1e16\n",
    "#     pi = np.pi\n",
    "#     Mpc = 10**6 * pc\n",
    "    \n",
    "    # Load the parameters\n",
    "    Mchirp_true = M_sun * np.exp(params[0])\n",
    "    eta_true = params[1]\n",
    "    beta_true = params[2]\n",
    "    \n",
    "    # PN expansion parameter (velocity).\n",
    "    v = (pi*G*Mchirp_true*eta_true**(-3/5)/(c**3) * f)**(1/3)\n",
    "    \n",
    "    # Amplitude explicitly given in terms of units and frequency.\n",
    "    # Notice that lowest PN order here is fine. Biggest contributions from phase.\n",
    "    amplitude_1 = - (1/Deff)*np.sqrt((5/(24*pi)))*(GM_sun/(c**2))\n",
    "    amplitude_2 = (pi*GM_sun/(c**3))**(-1/6) * (Mchirp_true/M_sun)**(5/6)\n",
    "    amplitude = amplitude_1*amplitude_2 * f**(-7/6)\n",
    "    \n",
    "    # Phase: add or remove PN orders here as you see fit.\n",
    "    psi_const = 2*pi*f*t0 - 2*phi0 - pi/4\n",
    "    psi1PN = (3715/756+55/9*eta_true)*v**(-3)\n",
    "    psi1_5PN_tails = -16*pi*v**(-2)\n",
    "    psi1_5PN_spin = 4*beta_true*v**(-2)\n",
    "    psi2PN = (15293365/508032+27145/504*eta_true+3085/72*eta_true**2)*v**(-1)\n",
    "\n",
    "    psi_fullPN = 3/(128*eta_true)*(v**(-5)+psi1PN+psi1_5PN_tails+psi1_5PN_spin+psi2PN)\n",
    "    psi = psi_const + psi_fullPN \n",
    "    \n",
    "    return amplitude* np.exp(-1j*(1-eps)*psi)\n",
    "\n",
    "def htilde_AP(f,params):\n",
    "    \n",
    "    \"\"\"\n",
    "    Here we calculate a TaylorF2 model up to 2PN which takes as input the following\n",
    "    set of parameters: (log of chirp mass, symmetric mass ratio, beta).\n",
    "    This can easily be changed in the first few lines where the parameters are loaded.\n",
    "    The main reference is https://arxiv.org/pdf/gr-qc/0509116.pdf [Eqs (3.4)].\n",
    "    \n",
    "    Note on distance: \n",
    "    \n",
    "    Notice that the effective distance contains information about the angular dependence\n",
    "    of the binary. The model can thus be used for all detectors, as long as this distance\n",
    "    parameter is chosen consistently. \n",
    "    \n",
    "    Note on spin: \n",
    "    \n",
    "    The spin parameter beta is defined in Eq.(2.3a) in [arxiv:0411129].\n",
    "    Notice that this quantity is constructed in such a way to be smaller or equal\n",
    "    than 9.4, and of course it ranges from 0 (no spins) to this upper value. \n",
    "    The coefficient enters the phase as in Eq.(2.2) in the same paper.\n",
    "    \"\"\"\n",
    "    # Units\n",
    "    \n",
    "#     GM_sun = 1.3271244*1e20\n",
    "#     c =2.9979246*1e8\n",
    "#     M_sun =1.9884099*1e30\n",
    "#     G = 6.6743*1e-11\n",
    "#     pc= 3.0856776*1e16\n",
    "#     pi = np.pi\n",
    "#     Mpc = 10**6 * pc\n",
    "    \n",
    "    # Load the parameters\n",
    "    Mchirp_true = M_sun * np.exp(params[0])\n",
    "    eta_true = params[1]\n",
    "    beta_true = params[2]\n",
    "    \n",
    "    # PN expansion parameter (velocity).\n",
    "    v = (pi*G*Mchirp_true*eta_true**(-3/5)/(c**3) * f)**(1/3)\n",
    "    \n",
    "    # Amplitude explicitly given in terms of units and frequency.\n",
    "    # Notice that lowest PN order here is fine. Biggest contributions from phase.\n",
    "    amplitude_1 = - (1/Deff)*np.sqrt((5/(24*pi)))*(GM_sun/(c**2))\n",
    "    amplitude_2 = (pi*GM_sun/(c**3))**(-1/6) * (Mchirp_true/M_sun)**(5/6)\n",
    "    amplitude = amplitude_1*amplitude_2 * f**(-7/6)\n",
    "    \n",
    "    # Phase: add or remove PN orders here as you see fit.\n",
    "    psi_const = 2*pi*f*t0 - 2*phi0 - pi/4\n",
    "    psi1PN = (3715/756+55/9*eta_true)*v**(-3)\n",
    "    psi1_5PN_tails = -16*pi*v**(-2)\n",
    "    psi1_5PN_spin = 4*beta_true*v**(-2)\n",
    "    psi2PN = (15293365/508032+27145/504*eta_true+3085/72*eta_true**2)*v**(-1)\n",
    "    \n",
    "    psi_fullPN = 3/(128*eta_true)*(v**(-5)+psi1PN+psi1_5PN_tails+psi1_5PN_spin + psi2PN)\n",
    "    psi = psi_const + psi_fullPN \n",
    "    \n",
    "    return amplitude* np.exp(-1j*psi)\n",
    "\n",
    "def dh_dlnMc(f,params):\n",
    "    \n",
    "    Mchirp= M_sun * np.exp(params[0])\n",
    "    eta=params[1]\n",
    "    beta=params[2]\n",
    "    \n",
    "    v = (pi*G*Mchirp*eta**(-3/5)/(c**3) * f)**(1/3)\n",
    "    C0PN = 5/6+5/128 *1j* v**(-5)* eta**(-1)\n",
    "    C1PN = 5*1j*(743+924*eta)/32256 * v**(-3) * eta**(-1)\n",
    "    C1_5PN = -1/16 *1j *(4*pi-beta)* v**-2 * eta**-1\n",
    "    C2PN = 5*1j/65028096 * v**-1 * eta**-1 * (3058673 + 5472432*eta + 4353552 *eta**2)\n",
    "    \n",
    "    return (C0PN + C1PN + C1_5PN + C2PN)*htilde_AP(f,params)\n",
    "\n",
    "def dh_deta(f,params):\n",
    "    \n",
    "    Mchirp=M_sun * np.exp(params[0])\n",
    "    eta=params[1]\n",
    "    beta=params[2]\n",
    "    \n",
    "    v = (pi*G*Mchirp*eta**(-3/5)/(c**3) * f)**(1/3)\n",
    "    C1PN = 743*1j/16128 * v**-3 * eta**-2 - 11*1j/128 * v**-3* eta**-1\n",
    "    C1_5PN = -9*1j*pi/40* v**-2 * eta**-2 +9*1j*beta/160 * v**-2 * eta**-2\n",
    "    C2PN =  1j* v**-1 *( -617/512 - 5429/21504*eta**-1 + 3058673/5419008* eta**-2)\n",
    "    \n",
    "    return (C1PN + C1_5PN + C2PN)*htilde_AP(f,params)\n",
    "\n",
    "\n",
    "def dh_dbeta(f,params):\n",
    "    \n",
    "    Mchirp= M_sun * np.exp(params[0])\n",
    "    eta=params[1]\n",
    "    beta=params[2]\n",
    "    \n",
    "    v = (pi*G*Mchirp*eta**(-3/5)/(c**3) * f)**(1/3)\n",
    "    C1_5PN = -3/32 *1j* v**(-2)*eta**-1\n",
    "    \n",
    "    return (C1_5PN)*htilde_AP(f,params)"
   ]
  },
  {
   "cell_type": "code",
   "execution_count": 646,
   "metadata": {},
   "outputs": [],
   "source": [
    "def ET_PSD(f):\n",
    "    \"\"\"\n",
    "    Analytical fit: https://arxiv.org/pdf/1201.3563.pdf\n",
    "    \"\"\"\n",
    "    x = f/100\n",
    "\n",
    "    hn_sqr = (2.39 * 1e-27 * x**(-15.64) + 0.349 * x**(-2.145) + 1.76 * x**-0.12 + 0.409 * x**(1.10))**2\n",
    "    \n",
    "    return 1e-50 * hn_sqr\n",
    "\n",
    "def inner_prod(sig1_f,sig2_f,PSD,delta_f):\n",
    "    \"\"\"\n",
    "    Wiener Product with constant PSD. Here we use Parseval's theorem. Note the definition of the SNR.\n",
    "    \"\"\"\n",
    "    return (4*delta_f)  * np.real(sum(sig1_f*np.conjugate(sig2_f)/PSD))\n",
    "\n"
   ]
  },
  {
   "cell_type": "code",
   "execution_count": 692,
   "metadata": {},
   "outputs": [],
   "source": [
    "\"\"\"\n",
    "Time domain.\n",
    "\"\"\"\n",
    "\n",
    "fmin = 5\n",
    "fmax = 30\n",
    "\n",
    "T_obs =  2**8      # Take ~ one hour worth of signal, in seconds.\n",
    "delta_f = 1/T_obs\n",
    "\n",
    "freq_bin = np.arange(fmin,fmax,delta_f)              # set up time array\n",
    "n_f = len(freq_bin)\n",
    "\n"
   ]
  },
  {
   "cell_type": "code",
   "execution_count": 693,
   "metadata": {},
   "outputs": [
    {
     "data": {
      "text/plain": [
       "6400"
      ]
     },
     "execution_count": 693,
     "metadata": {},
     "output_type": "execute_result"
    }
   ],
   "source": [
    "len(freq_bin)"
   ]
  },
  {
   "cell_type": "code",
   "execution_count": 708,
   "metadata": {},
   "outputs": [
    {
     "name": "stdout",
     "output_type": "stream",
     "text": [
      "SNR for this source 697.3597600679003\n"
     ]
    }
   ],
   "source": [
    "\"\"\"\n",
    "Signal parameters\n",
    "\"\"\"\n",
    "\n",
    "# Fix these two impostors, assume they are known perfectly.\n",
    "t0 =1.\n",
    "phi0 =0.\n",
    "Deff = 400 * Mpc\n",
    "logDeff = np.log(Deff)\n",
    "\n",
    "# variables to sample through\n",
    "\n",
    "#logDeff_true = np.log(10**2 *Mpc)\n",
    "beta_true = 5\n",
    "\n",
    "m1 = 20  \n",
    "m2 = 50\n",
    "\n",
    "\n",
    "M_tot = (m1 + m2)  # M_tot in kilograms\n",
    "eta_true = (m1*m2)/(M_tot**2)  # Symmetric mass ratio [dimensionless]\n",
    "\n",
    "M_chirp_true = M_tot*eta**(3/5)  # Chirp mass in units of kilograms \n",
    "\n",
    "\n",
    "logMchirp_true = np.log(M_chirp_true)\n",
    "\n",
    "pars = [logMchirp_true,eta_true,beta_true] # array of parameters for waveform.\n",
    "eps_GR = 1*1e-4\n",
    "\n",
    "h_f = htilde_GR(freq_bin,eps_GR,pars)\n",
    "h_f_approx = htilde_AP(freq_bin,pars)\n",
    "\n",
    "\n",
    "# SNR\n",
    "\n",
    "PSD = ET_PSD(freq_bin)\n",
    "\n",
    "SNR2 = inner_prod(h_f,h_f,PSD,delta_f)\n",
    "\n",
    "print('SNR for this source',np.sqrt(SNR2))"
   ]
  },
  {
   "cell_type": "code",
   "execution_count": 709,
   "metadata": {},
   "outputs": [
    {
     "name": "stdout",
     "output_type": "stream",
     "text": [
      "overlap: 0.9997800009397738\n"
     ]
    }
   ],
   "source": [
    "# Overlap\n",
    "\n",
    "num = inner_prod(h_f,h_f_approx,PSD,delta_f)\n",
    "denom = np.sqrt(inner_prod(h_f,h_f,PSD,delta_f)*inner_prod(h_f_approx,h_f_approx,PSD,delta_f))\n",
    "\n",
    "print('overlap:',num/denom)"
   ]
  },
  {
   "cell_type": "code",
   "execution_count": 710,
   "metadata": {},
   "outputs": [],
   "source": [
    "N_unres = 10\n",
    "np.random.seed(2)\n",
    "unres_m1 = abs(np.random.normal(1.4,1,N_unres))\n",
    "unres_m2 = abs(np.random.normal(1.4,1,N_unres))\n",
    "D_unres = abs(np.random.normal(200*1e6,40*1e6,N_unres))\n",
    "\n",
    "unres_M_tot = [(unres_m1[i] + unres_m2[i]) for i in range(N_unres)]\n",
    "\n",
    "unres_M_chirp = [(unres_m1[i]*unres_m2[i])**(3/5)/(unres_m1[i] + unres_m2[i])**(1/5) for i in range(N_unres)]\n",
    "unres_eta = [(unres_M_tot[i] * unres_M_chirp[i])**(5/3) for i in range(N_unres)]\n",
    "unres_beta = abs(np.random.normal(5,1,N_unres))\n",
    "\n",
    "unres_signal_f = [htilde_GR(freq_bin,eps_GR,[unres_M_chirp[i],unres_eta[i],unres_beta[i]]) for i in range(0,N_unres)]\n",
    "\n",
    "sum_unres_signal_f = sum(unres_signal_f)"
   ]
  },
  {
   "cell_type": "code",
   "execution_count": 711,
   "metadata": {},
   "outputs": [],
   "source": [
    "diff_vec =[dh_dlnMc(freq_bin,pars),dh_deta(freq_bin,pars),dh_dbeta(freq_bin,pars)]\n",
    "\n",
    "fish_mix = np.eye(3)\n",
    "for i in range(0,3):\n",
    "    for j in range(0,3):\n",
    "        fish_mix[i,j] = inner_prod(diff_vec[i],diff_vec[j],PSD,delta_f)\n",
    "        \n",
    "Cov_Matrix = np.linalg.inv(fish_mix)"
   ]
  },
  {
   "cell_type": "code",
   "execution_count": 712,
   "metadata": {},
   "outputs": [
    {
     "data": {
      "text/plain": [
       "array([1.98417930e-05, 1.62338039e-03, 1.62172627e-02])"
      ]
     },
     "execution_count": 712,
     "metadata": {},
     "output_type": "execute_result"
    }
   ],
   "source": [
    "np.sqrt(np.diag(Cov_Matrix))"
   ]
  },
  {
   "cell_type": "code",
   "execution_count": 713,
   "metadata": {},
   "outputs": [
    {
     "data": {
      "text/plain": [
       "6400"
      ]
     },
     "execution_count": 713,
     "metadata": {},
     "output_type": "execute_result"
    }
   ],
   "source": [
    "len(freq_bin)"
   ]
  },
  {
   "cell_type": "code",
   "execution_count": 714,
   "metadata": {},
   "outputs": [],
   "source": [
    "# MCMC\n",
    "\n",
    "# MCMC\n",
    "\"\"\"\n",
    "Created on Mon Nov 25 23:53:26 2019\n",
    "\n",
    "@author: Ollie\n",
    "\"\"\"\n",
    "\n",
    "import numpy as np\n",
    "import scipy as sp\n",
    "import random as rd\n",
    "import matplotlib.pyplot as plt\n",
    "\n",
    "def llike(pdgrm, variances):\n",
    "    \"\"\"\n",
    "    Computes log (Whittle) likelihood \n",
    "    \"\"\"\n",
    "\n",
    "    return -0.5 * sum(pdgrm / variances)\n",
    "\n",
    "def lprior_logM_chirp(logM_chirp,logM_chirp_low, logM_chirp_high):\n",
    "    \"\"\"\n",
    "    Prior on amplitude - uniform\n",
    "    \"\"\"\n",
    "\n",
    "    if logM_chirp < logM_chirp_low or logM_chirp > logM_chirp_high:\n",
    "        print('rejected logM_chirp')\n",
    "        return -1e100\n",
    "    else:\n",
    "        return 0\n",
    "    \n",
    "def lprior_eta(eta,eta_low, eta_high):\n",
    "    \"\"\"\n",
    "    Prior on amplitude - uniform\n",
    "    \"\"\"\n",
    "    if eta < eta_low or eta > eta_high:\n",
    "        print('rejected eta')\n",
    "\n",
    "        return -1e100\n",
    "    else:\n",
    "        return 0\n",
    "    \n",
    "def lprior_beta(beta,beta_low, beta_high):\n",
    "    \"\"\"\n",
    "    Prior on amplitude - uniform\n",
    "    \"\"\"\n",
    "\n",
    "    if beta < beta_low or beta > beta_high:\n",
    "        print('rejected beta')\n",
    "        return -1e100\n",
    "    else:\n",
    "        return 0\n",
    "\n",
    "    \n",
    "def lpost(pdgrm, variances,\n",
    "          logM_chirp,logM_chirp_low,logM_chirp_high,\n",
    "          eta, eta_low, eta_high,\n",
    "          beta, beta_low, beta_high):\n",
    "    '''\n",
    "    Compute log posterior\n",
    "    '''\n",
    "    \n",
    "    return(lprior_logM_chirp(logM_chirp,logM_chirp_low, logM_chirp_high) +\n",
    "           lprior_eta(eta,eta_low, eta_high) + \n",
    "           lprior_beta(beta,beta_low, beta_high) +\n",
    "           + llike(pdgrm, variances))\n",
    "\n",
    "\n",
    "def accept_reject(lp_prop, lp_prev):\n",
    "    '''\n",
    "    Compute log acceptance probability (minimum of 0 and log acceptance rate)\n",
    "    Decide whether to accept (1) or reject (0)\n",
    "    '''\n",
    "    u = np.random.uniform(size = 1)  # U[0, 1]\n",
    "    r = np.minimum(0, lp_prop - lp_prev)  # log acceptance probability\n",
    "    if np.log(u) < r:\n",
    "        return(1)  # Accept\n",
    "    else:\n",
    "        return(0)  # Reject\n",
    "    \n",
    " \n",
    "\n",
    "def accept_rate(parameter):\n",
    "    '''\n",
    "    Compute acceptance rate for a specific parameter\n",
    "    Used to adapt the proposal variance in a MH sampler\n",
    "    Input: parameter (sequence of samples of a parameter)\n",
    "    '''\n",
    "    rejections = 0\n",
    "    for i in range(len(parameter) - 1):  # Count rejections\n",
    "        rejections = rejections + (parameter[i + 1] == parameter[i])\n",
    "    reject_rate = rejections / (len(parameter) - 1)  # Rejection rate\n",
    "    return(1 - reject_rate)  # Return acceptance rate\n",
    "    \n",
    "\n",
    "#####\n",
    "#####\n",
    "    \n",
    "\n",
    "def MCMC_full(data_f,f, true_vals,Cov_Matrix,\n",
    "                          Variances,\n",
    "                           M_chirp_high,M_chirp_low,\n",
    "                           eta_high, eta_low,\n",
    "                           beta_high, beta_low,\n",
    "                           Ntotal, \n",
    "                           burnin, \n",
    "                           printerval = 50):\n",
    "\n",
    "    \n",
    "    np.random.seed(2) # Set the seed\n",
    "    \n",
    "\n",
    "    logM_chirp = []   # Initialise empty vectors\n",
    "    eta = []\n",
    "    beta = []\n",
    "    \n",
    "    \n",
    "    D = []\n",
    "\n",
    "    logM_chirp.append(true_vals[0])\n",
    "    eta.append(true_vals[1])\n",
    "    beta.append(true_vals[2])\n",
    "    \n",
    "    \n",
    "    delta_f = f[1] - f[0]   # Extract sampling interval\n",
    "    \n",
    "    params = [logM_chirp[0],eta[0],beta[0]]\n",
    "    \n",
    "    signal_init_f = htilde_AP(f,params)\n",
    "\n",
    "    # Compute periodogram\n",
    "    pdgrm = abs(data_f - signal_init_f)**2  \n",
    "    print('pdgrm is',pdgrm)\n",
    "                                                      \n",
    "    # Initial value for log posterior\n",
    "    lp = []\n",
    "    lp.append(lpost(pdgrm, variances,\n",
    "                    logM_chirp[0], logM_chirp_low, logM_chirp_high,\n",
    "                    eta[0], eta_low, eta_high,\n",
    "                    beta[0], beta_low, beta_high))\n",
    "    \n",
    "    lp_store = lp[0]  # Create log posterior storage to be overwritten\n",
    "\n",
    "    accept_reject_count = [0]   \n",
    "    #####                                                  \n",
    "    # Run MCMC\n",
    "    #####\n",
    "    for i in range(1, Ntotal):\n",
    "\n",
    "        if i % printerval == 0:\n",
    "            print(\"i = \", i)  # Iteration and Acceptance/Rejection ratio \n",
    "            print(\"acceptance_reject ratio\", 100*sum(accept_reject_count)/len(accept_reject_count),'percent')\n",
    "            \n",
    "\n",
    "        ####\n",
    "\n",
    "        #####\n",
    "        # Step 1: Sample spin, a\n",
    "        #####\n",
    "        \n",
    "        lp_prev = lp_store  # Call previous stored log posterior\n",
    "        \n",
    "        # Hardcoded standard deviations because I'm a twat.\n",
    "        \n",
    "#         logM_chirp_prop = logM_chirp[i - 1] + np.random.normal(0,1.94471368e-05)\n",
    "#         eta_prop = eta[i - 1] + np.random.normal(0,6.51506233e-04)\n",
    "#         beta_prop = beta[i - 1] + np.random.normal(0,6.17458158e-03)\n",
    "\n",
    "        prev_vec = [logM_chirp[i - 1], eta[i - 1], beta[i - 1]]\n",
    "        \n",
    "        prop_vec = np.random.multivariate_normal(prev_vec,Cov_Matrix)\n",
    "        \n",
    "#         print(prop_vec)\n",
    "\n",
    "        logM_chirp_prop = prop_vec[0]\n",
    "        eta_prop = prop_vec[1]\n",
    "        beta_prop = prop_vec[2]\n",
    "#         param_prop = [logM_chirp_prop,eta_prop,beta_prop]\n",
    "        \n",
    "        signal_prop_f  = htilde_AP(f,prop_vec)  # New proposed signal\n",
    "\n",
    "        pdgrm_prop = abs(data_f - signal_prop_f)**2  # Compute periodigram\n",
    "        \n",
    "        \n",
    "        # Compute log posterior\n",
    "        lp_prop = lpost(pdgrm_prop, variances, \n",
    "                         logM_chirp_prop,logM_chirp_low,logM_chirp_high,\n",
    "                           eta_prop, eta_low, eta_high,\n",
    "                             beta_prop, beta_low, beta_high)  # Compute proposed log posterior\n",
    "        \n",
    "\n",
    "        if accept_reject(lp_prop, lp_prev) == 1:  # Accept\n",
    "            logM_chirp.append(logM_chirp_prop) \n",
    "            eta.append(eta_prop)\n",
    "            beta.append(beta_prop)\n",
    "\n",
    "            accept_reject_count.append(1)  # Add one to counter\n",
    "              \n",
    "            lp_store = lp_prop  # Overwrite lp_store\n",
    "\n",
    "        else:  # Reject\n",
    "            logM_chirp.append(logM_chirp[i - 1]) \n",
    "            eta.append(eta[i - 1])\n",
    "            beta.append(beta[i - 1])\n",
    "            \n",
    "            accept_reject_count.append(0)  # Add 0 to counter\n",
    "              \n",
    "        lp.append(lp_store)  # Add log posterior value\n",
    "        \n",
    "\n",
    "\n",
    "        \n",
    "    return logM_chirp,eta,beta,lp"
   ]
  },
  {
   "cell_type": "code",
   "execution_count": 715,
   "metadata": {},
   "outputs": [
    {
     "name": "stdout",
     "output_type": "stream",
     "text": [
      "pdgrm is [3.22219247e-44 3.41302761e-44 3.64205038e-44 ... 1.52022712e-45\n",
      " 1.14259692e-45 6.94953816e-46]\n",
      "i =  2000\n",
      "acceptance_reject ratio 46.35 percent\n",
      "i =  4000\n",
      "acceptance_reject ratio 45.6 percent\n",
      "i =  6000\n",
      "acceptance_reject ratio 45.233333333333334 percent\n",
      "i =  8000\n",
      "acceptance_reject ratio 45.375 percent\n",
      "i =  10000\n",
      "acceptance_reject ratio 45.59 percent\n",
      "i =  12000\n",
      "acceptance_reject ratio 45.7 percent\n",
      "i =  14000\n",
      "acceptance_reject ratio 45.535714285714285 percent\n",
      "i =  16000\n",
      "acceptance_reject ratio 45.65625 percent\n",
      "i =  18000\n",
      "acceptance_reject ratio 45.78888888888889 percent\n",
      "i =  20000\n",
      "acceptance_reject ratio 45.79 percent\n",
      "i =  22000\n",
      "acceptance_reject ratio 45.722727272727276 percent\n",
      "i =  24000\n",
      "acceptance_reject ratio 45.74166666666667 percent\n",
      "i =  26000\n",
      "acceptance_reject ratio 45.784615384615385 percent\n",
      "i =  28000\n",
      "acceptance_reject ratio 45.707142857142856 percent\n",
      "i =  30000\n",
      "acceptance_reject ratio 45.76 percent\n",
      "i =  32000\n",
      "acceptance_reject ratio 45.73125 percent\n",
      "i =  34000\n",
      "acceptance_reject ratio 45.81764705882353 percent\n",
      "i =  36000\n",
      "acceptance_reject ratio 45.725 percent\n",
      "i =  38000\n",
      "acceptance_reject ratio 45.72105263157895 percent\n",
      "i =  40000\n",
      "acceptance_reject ratio 45.65 percent\n",
      "i =  42000\n",
      "acceptance_reject ratio 45.680952380952384 percent\n",
      "i =  44000\n",
      "acceptance_reject ratio 45.67272727272727 percent\n",
      "i =  46000\n",
      "acceptance_reject ratio 45.619565217391305 percent\n",
      "i =  48000\n",
      "acceptance_reject ratio 45.62916666666667 percent\n"
     ]
    }
   ],
   "source": [
    "data_f_unres = h_f + sum_unres_signal_f\n",
    "\n",
    "variances = (PSD)/(4*delta_f)   # Variances (denominator of likelihood)\n",
    "\n",
    "Ntotal = 50000  # Number of iterations\n",
    "burnin = 5000\n",
    "\n",
    "logM_chirp_low = -100   # a prior bound (high)\n",
    "logM_chirp_high = np.log(50)     # a prior bound (low)\n",
    "\n",
    "eta_low = 0\n",
    "eta_high = 0.25\n",
    "\n",
    "beta_low = 0\n",
    "beta_high = 9.4\n",
    "\n",
    "\n",
    "true_vals = [np.log(M_chirp_true),eta_true,beta_true]  # True values to start chain with \n",
    "\n",
    "# Run the algorithm\n",
    "logM_chirp_samps,eta_samps,beta_samps,lp  = MCMC_full(data_f_unres,freq_bin, true_vals,Cov_Matrix,\n",
    "                                                   variances,\n",
    "                                                   logM_chirp_high,logM_chirp_low,\n",
    "                                                   eta_high,eta_low,\n",
    "                                                   beta_high,beta_low,\n",
    "                                                   Ntotal, \n",
    "                                                   burnin, \n",
    "                                                   printerval = 2000,\n",
    "                                                   )\n",
    "\n",
    "\n",
    "logM_chirp_samps = logM_chirp_samps[burnin:]\n",
    "eta_samps = eta_samps[burnin:]\n",
    "beta_samps = beta_samps[burnin:]\n",
    "lp = lp[burnin:]"
   ]
  },
  {
   "cell_type": "code",
   "execution_count": 716,
   "metadata": {},
   "outputs": [
    {
     "name": "stdout",
     "output_type": "stream",
     "text": [
      "MCMC logM_chirp: 1.9908930481635477e-05\n",
      "MCMC eta: 0.00171723687793435\n",
      "MCMC beta: 0.017272693859490196\n",
      "FM: [1.98417930e-05 1.62338039e-03 1.62172627e-02]\n"
     ]
    }
   ],
   "source": [
    "print('MCMC logM_chirp:',np.sqrt(np.var(logM_chirp_samps)))\n",
    "print('MCMC eta:',np.sqrt(np.var(eta_samps)))\n",
    "print('MCMC beta:',np.sqrt(np.var(beta_samps)))\n",
    "\n",
    "print('FM:',np.sqrt(np.diag(Cov_Matrix)))"
   ]
  },
  {
   "cell_type": "code",
   "execution_count": 717,
   "metadata": {},
   "outputs": [
    {
     "data": {
      "image/png": "[encoded data removed]",
      "text/plain": [
       "<Figure size 1440x360 with 3 Axes>"
      ]
     },
     "metadata": {
      "needs_background": "light"
     },
     "output_type": "display_data"
    }
   ],
   "source": [
    "# Results\n",
    "\n",
    "fig,ax = plt.subplots(1,3,figsize = (20,5))\n",
    "\n",
    "ax[0].hist(logM_chirp_samps,bins = 30,label = 'Posterior')\n",
    "ax[0].axvline(x = np.log(M_chirp_true),c = 'red', label = 'True Value')\n",
    "# ax[0].axvline(x = a_res + a_bias, color = 'g', label = 'Predicted bias')\n",
    "ax[0].set_xlabel(r'$\\log \\mathcal{M}_{c}$',fontsize = 16)\n",
    "ax[0].set_ylabel(r'$P(\\log \\mathcal{M}_{c}|d,\\eta,\\beta)$',fontsize = 16)\n",
    "ax[0].set_title(r'Log Chirp Mass - $\\log \\mathcal{M}_{c}$',fontsize = 16)\n",
    "# plt.xlim([1.794,1.803])\n",
    "ax[0].locator_params(axis='x', nbins=5)\n",
    "ax[0].legend()\n",
    "# ax[0].show()\n",
    "\n",
    "\n",
    "\n",
    "ax[1].hist(eta_samps,bins = 30,label = 'Posterior')\n",
    "ax[1].axvline(x = eta_true,c = 'red', label = 'True Value')\n",
    "# ax[1].axvline(x = f_res + f0_bias, color = 'g', label = 'Predicted bias')\n",
    "ax[1].set_xlabel(r'$\\eta$',fontsize = 16)\n",
    "ax[1].set_ylabel(r'$P(\\eta|d,\\log \\mathcal{M}_{c},\\beta)$',fontsize = 16)\n",
    "ax[1].set_title(r'Symmetric Mass Ratio - $\\eta$',fontsize = 16)\n",
    "# plt.xlim([1.794,1.803])\n",
    "ax[1].legend()\n",
    "# ax[1].show()\n",
    "\n",
    "\n",
    "ax[2].hist(beta_samps,bins = 30,label = 'Posterior')\n",
    "ax[2].axvline(x = beta_true,c = 'red', label = 'True Value')\n",
    "# ax[2].axvline(x = phi_res + phi_bias,c = 'g',label = 'Predicted bias' )\n",
    "ax[2].set_xlabel(r'$\\beta$',fontsize = 16)\n",
    "ax[2].set_ylabel(r'$P(\\beta|d,\\log \\mathcal{M}_{c},\\eta)$',fontsize = 16)\n",
    "ax[2].set_title(r'PN spin param - $\\beta$',fontsize = 16)\n",
    "ax[2].legend()\n",
    "# ax[2].show()\n",
    "plt.tight_layout()"
   ]
  },
  {
   "cell_type": "code",
   "execution_count": 718,
   "metadata": {},
   "outputs": [
    {
     "data": {
      "text/plain": [
       "array([-1.54282369e-22-1.46773218e-23j, -9.95480660e-23+1.31455941e-22j,\n",
       "        1.74774868e-22-9.12927906e-23j, ...,\n",
       "        9.06412385e-24+3.79341904e-23j, -1.69055076e-24+3.41836308e-23j,\n",
       "       -6.92279334e-24+2.61690842e-23j])"
      ]
     },
     "execution_count": 718,
     "metadata": {},
     "output_type": "execute_result"
    }
   ],
   "source": [
    "sum_unres_signal_f"
   ]
  },
  {
   "cell_type": "code",
   "execution_count": 719,
   "metadata": {},
   "outputs": [
    {
     "name": "stdout",
     "output_type": "stream",
     "text": [
      "6400\n"
     ]
    }
   ],
   "source": [
    "print(len(diff_vec[0]))"
   ]
  },
  {
   "cell_type": "code",
   "execution_count": 720,
   "metadata": {},
   "outputs": [
    {
     "data": {
      "text/plain": [
       "6400"
      ]
     },
     "execution_count": 720,
     "metadata": {},
     "output_type": "execute_result"
    }
   ],
   "source": [
    "len(freq_bin)"
   ]
  },
  {
   "cell_type": "code",
   "execution_count": 721,
   "metadata": {},
   "outputs": [
    {
     "data": {
      "text/plain": [
       "8192000"
      ]
     },
     "execution_count": 721,
     "metadata": {},
     "output_type": "execute_result"
    }
   ],
   "source": [
    "len(htilde_GR(freq_bins,eps_GR,pars))"
   ]
  },
  {
   "cell_type": "code",
   "execution_count": 722,
   "metadata": {},
   "outputs": [],
   "source": [
    "# FM formalism\n",
    "\n",
    "deltaH = sum_unres_signal_f\n",
    "\n",
    "deltah = htilde_GR(freq_bin,eps_GR,pars) - htilde_AP(freq_bin,pars) + deltaH\n",
    "\n",
    "b_vec = [inner_prod(diff_vec[i],deltah,PSD,delta_f) for i in range(0,3)]\n",
    "\n",
    "biases_pred_unresolved = np.matmul(Cov_Matrix,b_vec)"
   ]
  },
  {
   "cell_type": "code",
   "execution_count": 723,
   "metadata": {},
   "outputs": [],
   "source": [
    "M_chirp_bias = biases_pred_unresolved[0]\n",
    "eta_bias = biases_pred_unresolved[1]\n",
    "beta_bias = biases_pred_unresolved[2]"
   ]
  },
  {
   "cell_type": "code",
   "execution_count": 724,
   "metadata": {},
   "outputs": [
    {
     "data": {
      "image/png": "[encoded data removed]",
      "text/plain": [
       "<Figure size 1440x360 with 3 Axes>"
      ]
     },
     "metadata": {
      "needs_background": "light"
     },
     "output_type": "display_data"
    }
   ],
   "source": [
    "# Results\n",
    "\n",
    "fig,ax = plt.subplots(1,3,figsize = (20,5))\n",
    "\n",
    "ax[0].hist(logM_chirp_samps,bins = 30,label = 'Posterior')\n",
    "ax[0].axvline(x = np.log(M_chirp_true),c = 'red', label = 'True Value')\n",
    "ax[0].axvline(x = np.log(M_chirp_true) + M_chirp_bias, color = 'purple', label = 'Predicted bias')\n",
    "ax[0].set_xlabel(r'$\\log \\mathcal{M}_{c}$',fontsize = 16)\n",
    "ax[0].set_ylabel(r'$P(\\log \\mathcal{M}_{c}|d,\\eta,\\beta)$',fontsize = 16)\n",
    "ax[0].set_title(r'Log Chirp Mass - $\\log \\mathcal{M}_{c}$',fontsize = 16)\n",
    "# plt.xlim([1.794,1.803])\n",
    "ax[0].locator_params(axis='x', nbins=5)\n",
    "ax[0].legend()\n",
    "# ax[0].show()\n",
    "\n",
    "\n",
    "\n",
    "ax[1].hist(eta_samps,bins = 30,label = 'Posterior')\n",
    "ax[1].axvline(x = eta_true,c = 'red', label = 'True Value')\n",
    "ax[1].axvline(x = eta_true + eta_bias, color = 'purple', label = 'Predicted bias')\n",
    "ax[1].set_xlabel(r'$\\eta$',fontsize = 16)\n",
    "ax[1].set_ylabel(r'$P(\\eta|d,\\log \\mathcal{M}_{c},\\beta)$',fontsize = 16)\n",
    "ax[1].set_title(r'Symmetric Mass Ratio - $\\eta$',fontsize = 16)\n",
    "# plt.xlim([1.794,1.803])\n",
    "ax[1].legend()\n",
    "# ax[1].show()\n",
    "\n",
    "\n",
    "ax[2].hist(beta_samps,bins = 30,label = 'Posterior')\n",
    "ax[2].axvline(x = beta_true,c = 'red', label = 'True Value')\n",
    "ax[2].axvline(x = beta_true + beta_bias,c = 'purple',label = 'Predicted bias' )\n",
    "ax[2].set_xlabel(r'$\\beta$',fontsize = 16)\n",
    "ax[2].set_ylabel(r'$P(\\beta|d,\\log \\mathcal{M}_{c},\\eta)$',fontsize = 16)\n",
    "ax[2].set_title(r'PN spin param - $\\beta$',fontsize = 16)\n",
    "ax[2].legend()\n",
    "# ax[2].show()\n",
    "plt.tight_layout()"
   ]
  },
  {
   "cell_type": "code",
   "execution_count": 725,
   "metadata": {},
   "outputs": [
    {
     "data": {
      "text/plain": [
       "<matplotlib.legend.Legend at 0x7fead0a09b50>"
      ]
     },
     "execution_count": 725,
     "metadata": {},
     "output_type": "execute_result"
    },
    {
     "data": {
      "image/png": "[encoded data removed]",
      "text/plain": [
       "<Figure size 547.2x547.2 with 9 Axes>"
      ]
     },
     "metadata": {
      "needs_background": "light"
     },
     "output_type": "display_data"
    }
   ],
   "source": [
    "\n",
    "import corner\n",
    "samples = np.column_stack([logM_chirp_samps,eta_samps,beta_samps])\n",
    "\n",
    "figure = corner.corner(samples,bins = 30, color = 'blue',plot_datapoints=True,smooth1d=True,\n",
    "                       labels=[r\"$\\log \\mathcal{M}_{c}$\", r\"$\\eta$\", r\"$\\beta$\"],\n",
    "                       label_kwargs = {\"Fontsize\":12},set_xlabel = {'fontsize': 20},\n",
    "                       show_titles=True, title_fmt='.7f',title_kwargs={\"fontsize\": 9},smooth = True)\n",
    "\n",
    "axes = np.array(figure.axes).reshape((3, 3))\n",
    "true_vals = [np.log(M_chirp_true),eta_true,beta_true]\n",
    "for i in range(3):\n",
    "    ax = axes[i, i]\n",
    "    ax.axvline(true_vals[i], color=\"r\",label = 'True Values')\n",
    "    ax.axvline(true_vals[i] + biases_pred_unresolved[i] , color=\"purple\",label = 'Predicted Bias')\n",
    "    \n",
    "for yi in range(3):\n",
    "    for xi in range(yi):\n",
    "        ax = axes[yi, xi]\n",
    "        ax.axhline(true_vals[yi], color=\"r\")\n",
    "        ax.axvline(true_vals[xi],color= \"r\")\n",
    "        ax.axvline(true_vals[xi] + biases_pred_unresolved[xi] , color=\"purple\")\n",
    "        ax.axhline(true_vals[yi] + biases_pred_unresolved[yi] , color=\"purple\")\n",
    "        ax.plot(true_vals[xi], true_vals[yi], color = \"red\",marker='s')\n",
    "        ax.plot(true_vals[xi] + biases_pred_unresolved[xi] , true_vals[yi] + biases_pred_unresolved[yi],\n",
    "                color=\"purple\",marker='s')\n",
    "        \n",
    "for ax in figure.get_axes():\n",
    "    ax.tick_params(axis='both', labelsize=8)\n",
    "    \n",
    "plt.legend(bbox_to_anchor=(1.1, 2),fontsize = 14)\n",
    "\n",
    "#median given here."
   ]
  },
  {
   "cell_type": "code",
   "execution_count": null,
   "metadata": {},
   "outputs": [],
   "source": []
  }
 ],
 "metadata": {
  "kernelspec": {
   "display_name": "Python 3",
   "language": "python",
   "name": "python3"
  },
  "language_info": {
   "codemirror_mode": {
    "name": "ipython",
    "version": 3
   },
   "file_extension": ".py",
   "mimetype": "text/x-python",
   "name": "python",
   "nbconvert_exporter": "python",
   "pygments_lexer": "ipython3",
   "version": "3.7.4"
  }
 },
 "nbformat": 4,
 "nbformat_minor": 2
}
